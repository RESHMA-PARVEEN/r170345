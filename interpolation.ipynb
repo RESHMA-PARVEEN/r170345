{
  "nbformat": 4,
  "nbformat_minor": 0,
  "metadata": {
    "colab": {
      "name": "Untitled7.ipynb",
      "provenance": [],
      "authorship_tag": "ABX9TyPaULA2D50R6Rxp34/WIb8E",
      "include_colab_link": true
    },
    "kernelspec": {
      "name": "python3",
      "display_name": "Python 3"
    },
    "language_info": {
      "name": "python"
    }
  },
  "cells": [
    {
      "cell_type": "markdown",
      "metadata": {
        "id": "view-in-github",
        "colab_type": "text"
      },
      "source": [
        "<a href=\"https://colab.research.google.com/github/RESHMA-PARVEEN/r170345/blob/main/interpolation.ipynb\" target=\"_parent\"><img src=\"https://colab.research.google.com/assets/colab-badge.svg\" alt=\"Open In Colab\"/></a>"
      ]
    },
    {
      "cell_type": "code",
      "execution_count": 2,
      "metadata": {
        "colab": {
          "base_uri": "https://localhost:8080/"
        },
        "id": "648_n7hRZUy8",
        "outputId": "49fef646-6dd5-42b4-fdfa-700fe9e2c5ee"
      },
      "outputs": [
        {
          "output_type": "stream",
          "name": "stdout",
          "text": [
            "Enter number of data points: 5\n",
            "Enter data for x and y: \n",
            "x[0]=4\n",
            "y[0]=5\n",
            "x[1]=11\n",
            "y[1]=22\n",
            "x[2]=14\n",
            "y[2]=15\n",
            "x[3]=156\n",
            "y[3]=23\n",
            "x[4]=44\n",
            "y[4]=55\n",
            "Enter interpolation point: 9\n",
            "Interpolated value at 9.000 is 22.818.\n"
          ]
        }
      ],
      "source": [
        "\n",
        "# Lagrange Interpolation\n",
        "\n",
        "# Importing NumPy Library\n",
        "import numpy as np\n",
        "\n",
        "# Reading number of unknowns\n",
        "n = int(input('Enter number of data points: '))\n",
        "\n",
        "# Making numpy array of n & n x n size and initializing \n",
        "# to zero for storing x and y value along with differences of y\n",
        "x = np.zeros((n))\n",
        "y = np.zeros((n))\n",
        "\n",
        "\n",
        "# Reading data points\n",
        "print('Enter data for x and y: ')\n",
        "for i in range(n):\n",
        "    x[i] = float(input( 'x['+str(i)+']='))\n",
        "    y[i] = float(input( 'y['+str(i)+']='))\n",
        "\n",
        "\n",
        "# Reading interpolation point\n",
        "xp = float(input('Enter interpolation point: '))\n",
        "\n",
        "# Set interpolated value initially to zero\n",
        "yp = 0\n",
        "\n",
        "# Implementing Lagrange Interpolation\n",
        "for i in range(n):\n",
        "    \n",
        "    p = 1\n",
        "    \n",
        "    for j in range(n):\n",
        "        if i != j:\n",
        "            p = p * (xp - x[j])/(x[i] - x[j])\n",
        "    \n",
        "    yp = yp + p * y[i]    \n",
        "\n",
        "# Displaying output\n",
        "print('Interpolated value at %.3f is %.3f.' % (xp, yp))3\n",
        "\n"
      ]
    }
  ]
}