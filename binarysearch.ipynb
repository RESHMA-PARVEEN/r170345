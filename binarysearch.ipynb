{
  "nbformat": 4,
  "nbformat_minor": 0,
  "metadata": {
    "colab": {
      "name": "Untitled5.ipynb",
      "provenance": [],
      "authorship_tag": "ABX9TyNYdkbvolQVqgv15jjo/wKl",
      "include_colab_link": true
    },
    "kernelspec": {
      "name": "python3",
      "display_name": "Python 3"
    },
    "language_info": {
      "name": "python"
    }
  },
  "cells": [
    {
      "cell_type": "markdown",
      "metadata": {
        "id": "view-in-github",
        "colab_type": "text"
      },
      "source": [
        "<a href=\"https://colab.research.google.com/github/RESHMA-PARVEEN/r170345/blob/main/binarysearch.ipynb\" target=\"_parent\"><img src=\"https://colab.research.google.com/assets/colab-badge.svg\" alt=\"Open In Colab\"/></a>"
      ]
    },
    {
      "cell_type": "code",
      "execution_count": 1,
      "metadata": {
        "colab": {
          "base_uri": "https://localhost:8080/",
          "height": 38
        },
        "id": "cUUuksDE9KZk",
        "outputId": "6353ac4e-cdad-437d-f1b2-ce726acf83d9"
      },
      "outputs": [
        {
          "output_type": "execute_result",
          "data": {
            "text/plain": [
              "'59 found at 6 index'"
            ],
            "application/vnd.google.colaboratory.intrinsic+json": {
              "type": "string"
            }
          },
          "metadata": {},
          "execution_count": 1
        }
      ],
      "source": [
        "def binarySearch(a,k):\n",
        "    a.sort()\n",
        "    l = 0\n",
        "    r = len(a)-1\n",
        "    while (l<r):\n",
        "        mid = (l+r)//2\n",
        "        if a[mid] == k:\n",
        "            return f'{k} found at {mid} index'\n",
        "        elif a[mid] < k:\n",
        "            l = mid+1\n",
        "        else:\n",
        "            r = mid+1\n",
        "    return f'{k} is not found'       \n",
        "\n",
        "arr = [12, 9, 17, 23, 25, 45, 59, 63, 71, 89]\n",
        "binarySearch(arr,59)\n"
      ]
    }
  ]
}