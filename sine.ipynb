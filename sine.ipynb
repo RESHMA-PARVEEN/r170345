{
  "nbformat": 4,
  "nbformat_minor": 0,
  "metadata": {
    "colab": {
      "name": "Untitled6.ipynb",
      "provenance": [],
      "authorship_tag": "ABX9TyNHOKL7kbVB0glQ+r9oN+kf",
      "include_colab_link": true
    },
    "kernelspec": {
      "name": "python3",
      "display_name": "Python 3"
    },
    "language_info": {
      "name": "python"
    }
  },
  "cells": [
    {
      "cell_type": "markdown",
      "metadata": {
        "id": "view-in-github",
        "colab_type": "text"
      },
      "source": [
        "<a href=\"https://colab.research.google.com/github/RESHMA-PARVEEN/r170345/blob/main/sine.ipynb\" target=\"_parent\"><img src=\"https://colab.research.google.com/assets/colab-badge.svg\" alt=\"Open In Colab\"/></a>"
      ]
    },
    {
      "cell_type": "code",
      "execution_count": 19,
      "metadata": {
        "colab": {
          "base_uri": "https://localhost:8080/"
        },
        "id": "yB2xDASCW-n6",
        "outputId": "4045ffad-a1c7-4891-e3b0-fa49f5dac3bb"
      },
      "outputs": [
        {
          "output_type": "stream",
          "name": "stdout",
          "text": [
            "[-3.141593 -3.078126 -3.01466  -2.951193 -2.887727 -2.82426  -2.760794\n",
            " -2.697327 -2.633861 -2.570394 -2.506927 -2.443461 -2.379994 -2.316528\n",
            " -2.253061 -2.189595 -2.126128 -2.062662 -1.999195 -1.935729 -1.872262\n",
            " -1.808796 -1.745329 -1.681863 -1.618396 -1.55493  -1.491463 -1.427997\n",
            " -1.36453  -1.301064 -1.237597 -1.174131 -1.110664 -1.047198 -0.983731\n",
            " -0.920265 -0.856798 -0.793331 -0.729865 -0.666398 -0.602932 -0.539465\n",
            " -0.475999 -0.412532 -0.349066 -0.285599 -0.222133 -0.158666 -0.0952\n",
            " -0.031733  0.031733  0.0952    0.158666  0.222133  0.285599  0.349066\n",
            "  0.412532  0.475999  0.539465  0.602932  0.666398  0.729865  0.793331\n",
            "  0.856798  0.920265  0.983731  1.047198  1.110664  1.174131  1.237597\n",
            "  1.301064  1.36453   1.427997  1.491463  1.55493   1.618396  1.681863\n",
            "  1.745329  1.808796  1.872262  1.935729  1.999195  2.062662  2.126128\n",
            "  2.189595  2.253061  2.316528  2.379994  2.443461  2.506927  2.570394\n",
            "  2.633861  2.697327  2.760794  2.82426   2.887727  2.951193  3.01466\n",
            "  3.078126  3.141593]\n"
          ]
        }
      ],
      "source": [
        "import numpy as np\n",
        "from matplotlib import pyplot as plt\n",
        "x=np.linspace(-np.pi,np.pi,100)\n",
        "y=np.sin(x)\n",
        "my_file=open(\"sin_data.txt\",\"w\")\n",
        "my_file.write(\"# this is sine function \\n\")\n",
        "for i in range(len(x)):\n",
        "  my_file.write('%f \\t %f \\n'%(x[i],y[i]))\n",
        "my_file.close()\n",
        "\n",
        "data=np.loadtxt(\"sin_data.txt\")\n",
        "print(data[:,0])\n",
        "\n",
        "\n",
        "\n",
        "#x=np.linspace(-0.9,0.9,100)\n",
        "#y=x**6-x**4+ 0.2*x**2\n",
        "#f=file('data.txt','w')\n",
        "#f.write('#this is my data \\n')\n",
        "#for i in range(len(x)):\n",
        " #  f.write('%f \\t %f \\n'%(x[i]))\n"
      ]
    },
    {
      "cell_type": "markdown",
      "source": [
        "file operations\n",
        " read,write\n",
        " numerical data-array\n",
        " "
      ],
      "metadata": {
        "id": "1ec_wcs2e19o"
      }
    }
  ]
}