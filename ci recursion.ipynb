{
  "nbformat": 4,
  "nbformat_minor": 0,
  "metadata": {
    "colab": {
      "name": "Untitled3.ipynb",
      "provenance": [],
      "authorship_tag": "ABX9TyMyWZlygsMi21CLrhYXk4Mi",
      "include_colab_link": true
    },
    "kernelspec": {
      "name": "python3",
      "display_name": "Python 3"
    },
    "language_info": {
      "name": "python"
    }
  },
  "cells": [
    {
      "cell_type": "markdown",
      "metadata": {
        "id": "view-in-github",
        "colab_type": "text"
      },
      "source": [
        "<a href=\"https://colab.research.google.com/github/RESHMA-PARVEEN/r170345/blob/main/ci%20recursion.ipynb\" target=\"_parent\"><img src=\"https://colab.research.google.com/assets/colab-badge.svg\" alt=\"Open In Colab\"/></a>"
      ]
    },
    {
      "cell_type": "code",
      "execution_count": 1,
      "metadata": {
        "colab": {
          "base_uri": "https://localhost:8080/"
        },
        "id": "tvFeq5ZS74uf",
        "outputId": "b471bdc7-514f-4a52-d28a-20a2f08ea95b"
      },
      "outputs": [
        {
          "output_type": "execute_result",
          "data": {
            "text/plain": [
              "3138.4283767210018"
            ]
          },
          "metadata": {},
          "execution_count": 1
        }
      ],
      "source": [
        "def compundInterest(p, r, t):\n",
        "    if t>0:        \n",
        "        while(t>0):\n",
        "            p = p*(1+r/100)\n",
        "            t-=1\n",
        "            return compundInterest(p, r, t)\n",
        "    else:\n",
        "        return p\n",
        "\n",
        "compundInterest(1000, 10, 12)\n",
        "\n",
        "\n"
      ]
    }
  ]
}