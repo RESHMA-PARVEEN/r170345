{
  "nbformat": 4,
  "nbformat_minor": 0,
  "metadata": {
    "colab": {
      "name": "Untitled4.ipynb",
      "provenance": [],
      "authorship_tag": "ABX9TyONNKkzgZfyj/fMO0Gc0tYD",
      "include_colab_link": true
    },
    "kernelspec": {
      "name": "python3",
      "display_name": "Python 3"
    },
    "language_info": {
      "name": "python"
    }
  },
  "cells": [
    {
      "cell_type": "markdown",
      "metadata": {
        "id": "view-in-github",
        "colab_type": "text"
      },
      "source": [
        "<a href=\"https://colab.research.google.com/github/RESHMA-PARVEEN/r170345/blob/main/CI%20recursion.ipynb\" target=\"_parent\"><img src=\"https://colab.research.google.com/assets/colab-badge.svg\" alt=\"Open In Colab\"/></a>"
      ]
    },
    {
      "cell_type": "code",
      "execution_count": null,
      "metadata": {
        "id": "r42-6Rfb81qK"
      },
      "outputs": [],
      "source": [
        "def compundInterest(p, r, t):\n",
        "    if t>0:        \n",
        "        while(t>0):\n",
        "            p = p*(1+r/100)\n",
        "            t-=1\n",
        "            return compundInterest(p, r, t)\n",
        "    else:\n",
        "        return p\n",
        "\n",
        "compundInterest(1000, 10, 12)\n",
        "\n"
      ]
    }
  ]
}