{
  "nbformat": 4,
  "nbformat_minor": 0,
  "metadata": {
    "colab": {
      "name": "Untitled3.ipynb",
      "provenance": [],
      "authorship_tag": "ABX9TyOWmh+2Ul40mrfoOzTMRGJz",
      "include_colab_link": true
    },
    "kernelspec": {
      "name": "python3",
      "display_name": "Python 3"
    },
    "language_info": {
      "name": "python"
    }
  },
  "cells": [
    {
      "cell_type": "markdown",
      "metadata": {
        "id": "view-in-github",
        "colab_type": "text"
      },
      "source": [
        "<a href=\"https://colab.research.google.com/github/RESHMA-PARVEEN/r170345/blob/main/anagram.ipynb\" target=\"_parent\"><img src=\"https://colab.research.google.com/assets/colab-badge.svg\" alt=\"Open In Colab\"/></a>"
      ]
    },
    {
      "cell_type": "code",
      "execution_count": null,
      "metadata": {
        "id": "GYxXKmio7-FH"
      },
      "outputs": [],
      "source": [
        "def anagram(str1, str2):\n",
        "    if sorted(str1.lower()) == sorted(str2.lower()):\n",
        "        return True\n",
        "    else:\n",
        "        return False\n",
        "\n",
        "anagram('angel','angle')\n",
        "\n"
      ]
    }
  ]
}